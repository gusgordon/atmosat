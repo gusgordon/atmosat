{
 "cells": [
  {
   "cell_type": "code",
   "execution_count": 1,
   "metadata": {},
   "outputs": [],
   "source": [
    "import numpy as np\n",
    "import pandas as pd\n",
    "import airmass\n",
    "\n",
    "day_of_year = 355\n",
    "latitude = 40"
   ]
  },
  {
   "cell_type": "code",
   "execution_count": 2,
   "metadata": {},
   "outputs": [],
   "source": [
    "als = np.arange(0, 50001, 1000)\n",
    "hrs = np.arange(51) * 24 / 50\n",
    "als2, hrs2 = np.meshgrid(als, hrs)\n",
    "vf = np.vectorize(\n",
    "    lambda altitude, hour: airmass.solar_intensity_time(altitude, day_of_year=day_of_year, latitude=latitude,\n",
    "                                                        hour_of_day=hour, include_diffuse_sky=True)\n",
    ")\n",
    "mean_insol_grid = vf(als2, hrs2)\n",
    "mean_insol_grid = pd.DataFrame(mean_insol_grid)\n",
    "mean_insol_grid.index = hrs * 3600\n",
    "mean_insol_grid.columns = als"
   ]
  },
  {
   "cell_type": "code",
   "execution_count": 3,
   "metadata": {},
   "outputs": [],
   "source": [
    "# Reindex index + columns to place consistent NaNs, then interpolate along both axes to fill those NaNs\n",
    "mean_insol_grid = mean_insol_grid.reindex(set(np.arange(0, 3600.0 * 24 + 1, 60.0)).union(mean_insol_grid.index))\n",
    "mean_insol_grid = mean_insol_grid.sort_index()\n",
    "mean_insol_grid = mean_insol_grid.reindex(set(np.arange(0, 50001.0, 25.0)).union(mean_insol_grid.columns), axis=1)\n",
    "mean_insol_grid = mean_insol_grid.sort_index(axis=1)\n",
    "mean_insol_grid = mean_insol_grid.interpolate(method='cubic').interpolate(method='cubic', axis=1)\n",
    "mean_insol_grid.index.name = 'second'"
   ]
  },
  {
   "cell_type": "code",
   "execution_count": 4,
   "metadata": {},
   "outputs": [],
   "source": [
    "mean_insol_grid.to_csv(f'solar_graph_day_{day_of_year}_lat_{latitude}.csv')"
   ]
  },
  {
   "cell_type": "code",
   "execution_count": null,
   "metadata": {},
   "outputs": [],
   "source": []
  }
 ],
 "metadata": {
  "kernelspec": {
   "display_name": "Python 3",
   "language": "python",
   "name": "python3"
  },
  "language_info": {
   "codemirror_mode": {
    "name": "ipython",
    "version": 3
   },
   "file_extension": ".py",
   "mimetype": "text/x-python",
   "name": "python",
   "nbconvert_exporter": "python",
   "pygments_lexer": "ipython3",
   "version": "3.6.8"
  }
 },
 "nbformat": 4,
 "nbformat_minor": 2
}
